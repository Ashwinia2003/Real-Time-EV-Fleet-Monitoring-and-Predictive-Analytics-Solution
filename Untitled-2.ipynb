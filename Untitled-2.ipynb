{
 "cells": [
  {
   "cell_type": "code",
   "execution_count": 1,
   "metadata": {},
   "outputs": [],
   "source": [
    "#import the libraries\n",
    "import  numpy as np\n",
    "import pandas as pd\n",
    "import matplotlib.pyplot as plt"
   ]
  },
  {
   "cell_type": "code",
   "execution_count": 3,
   "metadata": {},
   "outputs": [],
   "source": [
    "data = pd.read_csv(r\"C:\\Users\\ashwini\\OneDrive\\Desktop\\Ev management\\flask-login-master\\flask-login-master\\COMED_hourly.csv\", parse_dates=['Datetime'],index_col='Datetime')"
   ]
  },
  {
   "cell_type": "code",
   "execution_count": 4,
   "metadata": {},
   "outputs": [],
   "source": [
    "#convert 'COMED_MW' column to numeric values\n",
    "data['COMED_MW'] = pd.to_numeric(data['COMED_MW'],errors='coerce')"
   ]
  },
  {
   "cell_type": "code",
   "execution_count": null,
   "metadata": {},
   "outputs": [],
   "source": [
    "#preprocessing\n",
    "data['COMED_MW'] = data['COMED_MW'].fillna(0)"
   ]
  },
  {
   "cell_type": "code",
   "execution_count": 6,
   "metadata": {},
   "outputs": [],
   "source": [
    "cost_per_MWh = 100\n"
   ]
  },
  {
   "cell_type": "code",
   "execution_count": null,
   "metadata": {},
   "outputs": [],
   "source": [
    "data_sample = data.resample('D').sum()   #('D' - Daily ,'M' - Monthly , 'W' -Weekly)\n",
    "data_sample['Operational_Costs']=data_sample['COMED_MW'] * cost_per_MWh"
   ]
  },
  {
   "cell_type": "code",
   "execution_count": 8,
   "metadata": {},
   "outputs": [
    {
     "name": "stdout",
     "output_type": "stream",
     "text": [
      "            COMED_MW  Operational_Costs\n",
      "Datetime                               \n",
      "2011-01-01  241162.0         24116200.0\n",
      "2011-01-02  270137.0         27013700.0\n",
      "2011-01-03  290823.0         29082300.0\n",
      "2011-01-04  299994.0         29999400.0\n",
      "2011-01-05  308524.0         30852400.0\n",
      "...              ...                ...\n",
      "2018-07-30  296519.0         29651900.0\n",
      "2018-07-31  295933.0         29593300.0\n",
      "2018-08-01  307690.0         30769000.0\n",
      "2018-08-02  329641.0         32964100.0\n",
      "2018-08-03   13335.0          1333500.0\n",
      "\n",
      "[2772 rows x 2 columns]\n"
     ]
    }
   ],
   "source": [
    "print(data_sample[['COMED_MW','Operational_Costs']])"
   ]
  },
  {
   "cell_type": "code",
   "execution_count": 9,
   "metadata": {},
   "outputs": [],
   "source": [
    "data_sample.to_csv('operational_cost.csv')"
   ]
  },
  {
   "cell_type": "code",
   "execution_count": 1,
   "metadata": {},
   "outputs": [
    {
     "name": "stdout",
     "output_type": "stream",
     "text": [
      "Requirement already satisfied: plotly in c:\\users\\ashwini\\anaconda3\\lib\\site-packages (5.24.1)Note: you may need to restart the kernel to use updated packages.\n",
      "\n",
      "Requirement already satisfied: tenacity>=6.2.0 in c:\\users\\ashwini\\anaconda3\\lib\\site-packages (from plotly) (8.2.3)\n",
      "Requirement already satisfied: packaging in c:\\users\\ashwini\\appdata\\roaming\\python\\python312\\site-packages (from plotly) (24.2)\n"
     ]
    }
   ],
   "source": [
    "pip install plotly"
   ]
  },
  {
   "cell_type": "code",
   "execution_count": null,
   "metadata": {},
   "outputs": [],
   "source": [
    "import plotly.graph_objects as go\n",
    "fig =  go.figure()\n",
    "\n",
    "\n",
    "fig.add_trace(go.Scatter(x=data_sample.index,\n",
    "                         y=data_sample['COMED_MW'],\n",
    "                         mode = 'lines',\n",
    "                         name = 'Energy Consumption (MW)',\n",
    "                         line = dict(color = 'blue')))\n",
    "\n"
   ]
  },
  {
   "cell_type": "code",
   "execution_count": null,
   "metadata": {},
   "outputs": [],
   "source": [
    "fig.add_trace(go.Scatter(x=data_sample.index,\n",
    "                         y=data_sample['Operational Costs'],\n",
    "                         mode = 'lines',\n",
    "                         name = 'Operational Costs ($)',\n",
    "                         line = dict(color = 'green')))"
   ]
  },
  {
   "cell_type": "code",
   "execution_count": null,
   "metadata": {},
   "outputs": [],
   "source": [
    "fig.update_layout(\n",
    "    title = \"Energy Consumption and Operational Costs Over Time\",\n",
    "    xaxis_title = \"DateTime\",\n",
    "    yaxis_title = \"Value\",\n",
    "    legend_title = \"Metrics\",\n",
    "    template = \"plotly_dark\",\n",
    "    xaxis = dict(tickformat= \"%Y-%m-%d\"),\n",
    "    height = 600,\n",
    "    width = 1000\n",
    "\n",
    ")\n",
    "\n",
    "fig.show()\n"
   ]
  }
 ],
 "metadata": {
  "kernelspec": {
   "display_name": "base",
   "language": "python",
   "name": "python3"
  },
  "language_info": {
   "codemirror_mode": {
    "name": "ipython",
    "version": 3
   },
   "file_extension": ".py",
   "mimetype": "text/x-python",
   "name": "python",
   "nbconvert_exporter": "python",
   "pygments_lexer": "ipython3",
   "version": "3.12.7"
  }
 },
 "nbformat": 4,
 "nbformat_minor": 2
}
